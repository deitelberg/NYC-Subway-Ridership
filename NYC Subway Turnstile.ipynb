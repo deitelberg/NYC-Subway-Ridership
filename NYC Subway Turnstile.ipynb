{
 "cells": [
  {
   "cell_type": "code",
   "execution_count": null,
   "metadata": {},
   "outputs": [],
   "source": [
    "import datetime as dt\n",
    "import calendar as cal\n",
    "import pandas as pd\n",
    "\n",
    "from sodapy import Socrata\n",
    "from IPython.display import display, HTML\n",
    "\n",
    "import config as c"
   ]
  },
  {
   "cell_type": "code",
   "execution_count": null,
   "metadata": {},
   "outputs": [],
   "source": [
    "#Example authenticated client (needed for non-public datasets):\n",
    "client = Socrata(c.apiUrl,\n",
    "                 c.apiToken,\n",
    "                 username=c.apiUser,\n",
    "                 password=c.apiPass)"
   ]
  },
  {
   "cell_type": "code",
   "execution_count": null,
   "metadata": {
    "scrolled": false
   },
   "outputs": [],
   "source": [
    "recordsCount = 0\n",
    "for m in range(1,13): #dt.date(2002, 11, 31).isoformat()\n",
    "    startDate = dt.date(2016, m, 1).isoformat()\n",
    "    endDay = cal.monthrange(2016, m)[1]\n",
    "    endDate =   dt.date(2016, m, endDay).isoformat()\n",
    "    whereDate = \"date between '{}' and '{}'\".format(startDate, endDate)\n",
    "    \n",
    "    print(whereDate)\n",
    "    results = client.get(\"ekwu-khcy\", limit=9999999999, where=whereDate)\n",
    "    results_df = pd.DataFrame.from_records(results)\n",
    "    recordsCount+=results_df.shape[0]\n",
    "    print(results_df.shape)\n",
    "    display(HTML(results_df.head(5).to_html()))\n",
    "    print('\\n')\n",
    "    #break\n",
    "print('Records count: {}'.format(recordsCount))\n",
    "    "
   ]
  },
  {
   "cell_type": "code",
   "execution_count": null,
   "metadata": {},
   "outputs": [],
   "source": []
  }
 ],
 "metadata": {
  "kernelspec": {
   "display_name": "Python 3",
   "language": "python",
   "name": "python3"
  },
  "language_info": {
   "codemirror_mode": {
    "name": "ipython",
    "version": 3
   },
   "file_extension": ".py",
   "mimetype": "text/x-python",
   "name": "python",
   "nbconvert_exporter": "python",
   "pygments_lexer": "ipython3",
   "version": "3.7.3"
  }
 },
 "nbformat": 4,
 "nbformat_minor": 2
}
