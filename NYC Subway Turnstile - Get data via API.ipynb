{
 "cells": [
  {
   "cell_type": "code",
   "execution_count": null,
   "metadata": {},
   "outputs": [],
   "source": [
    "import datetime as dt\n",
    "import calendar as cal\n",
    "import pandas as pd\n",
    "\n",
    "from sodapy import Socrata\n",
    "from IPython.display import display, HTML\n",
    "\n",
    "import config as c"
   ]
  },
  {
   "cell_type": "code",
   "execution_count": null,
   "metadata": {},
   "outputs": [],
   "source": [
    "# Authenticated client (needed for non-public datasets):\n",
    "client = Socrata(c.apiUrl,\n",
    "                 c.apiToken,\n",
    "                 username=c.apiUser,\n",
    "                 password=c.apiPass)\n",
    "\n",
    "# Verify access to the client before going full blast\n",
    "try:\n",
    "    testResults = client.get(\"ekwu-khcy\", limit=2)\n",
    "except Exception as e:\n",
    "    print('ERROR: {}'.format(e))\n",
    "\n",
    "# Print our 5 rows to see data and fields\n",
    "testDf = pd.DataFrame.from_records(testResults)\n",
    "display(HTML(testDf.head().to_html()))"
   ]
  },
  {
   "cell_type": "code",
   "execution_count": null,
   "metadata": {
    "scrolled": false
   },
   "outputs": [],
   "source": [
    "recordsCount = 0\n",
    "fields = \"c_a, unit, scp, station, date, entries, exits\"\n",
    "for m in range(2,13):\n",
    "    print('Month: {} ...'.format(m), end =' ')\n",
    "    startDate = dt.date(2016, m, 1).isoformat()\n",
    "    endDay = cal.monthrange(2016, m)[1]\n",
    "    endDate =   dt.date(2016, m, endDay).isoformat()\n",
    "    whereDate = \"date between '{}' and '{}'\".format(startDate, endDate)\n",
    "\n",
    "    results = client.get(\"ekwu-khcy\", limit=100000, where=whereDate, select=fields)\n",
    "    print(whereDate)\n",
    "    \n",
    "    df = pd.DataFrame.from_records(results)\n",
    "    \n",
    "    display(HTML(df.head(20).to_html()))\n",
    "    recordsCount+=df.shape[0]\n",
    "    print('\\n')\n",
    "    #print(df.dtypes)\n",
    "    break\n",
    "    \n",
    "print('Records count: {}'.format(recordsCount))\n",
    "    "
   ]
  }
 ],
 "metadata": {
  "kernelspec": {
   "display_name": "Python 3",
   "language": "python",
   "name": "python3"
  },
  "language_info": {
   "codemirror_mode": {
    "name": "ipython",
    "version": 3
   },
   "file_extension": ".py",
   "mimetype": "text/x-python",
   "name": "python",
   "nbconvert_exporter": "python",
   "pygments_lexer": "ipython3",
   "version": "3.7.3"
  }
 },
 "nbformat": 4,
 "nbformat_minor": 2
}
