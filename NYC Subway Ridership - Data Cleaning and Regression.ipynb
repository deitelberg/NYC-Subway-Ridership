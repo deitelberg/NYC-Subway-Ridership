{
 "cells": [
  {
   "cell_type": "markdown",
   "metadata": {},
   "source": [
    "# NYC subway turnstile entries for 2016\n",
    "This code cleans NYC subway turnstile data to so a model can be trained on January-November statrion entry numbers and then predict December entries by day and by station. "
   ]
  },
  {
   "cell_type": "code",
   "execution_count": null,
   "metadata": {},
   "outputs": [],
   "source": [
    "import datetime as dt\n",
    "import calendar as cal\n",
    "import pandas as pd\n",
    "import numpy as np\n",
    "import matplotlib.pyplot as plt\n",
    "from scipy.stats import zscore\n",
    "from time import perf_counter\n",
    "\n",
    "from IPython.display import display, HTML\n",
    "\n",
    "import config as c"
   ]
  },
  {
   "cell_type": "markdown",
   "metadata": {},
   "source": [
    "## Read in all ~9.5 million rows of NYC subway turnstile data for 2016\n",
    "* This drops columns that are not necessary for the analysis"
   ]
  },
  {
   "cell_type": "code",
   "execution_count": null,
   "metadata": {},
   "outputs": [],
   "source": [
    "dtypes = {'Entries': 'int64', 'Exits': 'int64'}\n",
    "df= pd.read_csv('../intermediate data/Turnstile_Usage_Data__2016.csv', dtype=dtypes, low_memory=False)\n",
    "df.columns = df.columns.str.strip().str.lower().str.replace('/', '')\n",
    "df.drop(columns=['line name', 'division', 'description', 'exits'], inplace=True)\n",
    "print(df.dtypes)\n",
    "display(HTML(df.head(10).to_html()))"
   ]
  },
  {
   "cell_type": "markdown",
   "metadata": {},
   "source": [
    "## Loop through all data, cleaning it by station, then aggregating it by station and date.\n",
    "This allows a smaller amount of memory to be used to clean and aggregate the data, thus resulting in a much smaller output dataset"
   ]
  },
  {
   "cell_type": "code",
   "execution_count": null,
   "metadata": {
    "scrolled": false
   },
   "outputs": [],
   "source": [
    "stations = df.station.unique()\n",
    "n=0\n",
    "nTotal = len(stations)\n",
    "\n",
    "tt0 = perf_counter()\n",
    "\n",
    "# Loop through stations to process smaller chunks of data at a time\n",
    "for s in stations:\n",
    "    t0 = perf_counter()\n",
    "    n+=1\n",
    "    \n",
    "    # Print out info on station name and number in this dataset\n",
    "    print('\\n{}/{} | {} '.format(n, nTotal, s), end='\\n')\n",
    "    \n",
    "    # Get slice of dataframe for each station, s\n",
    "    dfStation = df[df['station']==s].copy()  \n",
    "\n",
    "    # Make turnstile column, concatenate ca, unit, and scp fields\n",
    "    dfStation['turnstile'] = dfStation['ca'] + ' ' +  dfStation['unit'] + ' ' + dfStation['scp']\n",
    "    \n",
    "    # Make date column a datetime object\n",
    "    dfStation['datetime'] = pd.to_datetime(dfStation['date']  + ' ' + dfStation['time'])\n",
    "    dfStation['date'] = pd.to_datetime(dfStation['date'])\n",
    "\n",
    "    # Sort data for following entry calculations\n",
    "    dfStation.sort_values(by=['turnstile', 'station', 'datetime'], inplace=True)\n",
    "\n",
    "    # Calculate time interval\n",
    "    dfStation['interval'] = dfStation['datetime'] - dfStation['datetime'].shift(1)\n",
    "    \n",
    "    # Calculate entries per time period\n",
    "    dfStation['enterDiff'] = dfStation['entries'] - dfStation['entries'].shift(1)\n",
    "    \n",
    "    # Calculate entries per minute\n",
    "    dfStation['intMin'] = dfStation['interval'] / np.timedelta64(1, 'm') \n",
    "    dfStation['entriesPerMin'] = dfStation['enterDiff'] / dfStation['intMin']\n",
    "    \n",
    "    # Clean up the dataframe - drop unneeded columns\n",
    "    dfStation.drop(columns=['ca', 'unit', 'scp', 'time', 'entries'], inplace=True)\n",
    "    \n",
    "    # Find first occurance of each turnstile\n",
    "    dfStation['firstSCP'] = ~ (dfStation['turnstile'] == dfStation['turnstile'].shift(1))\n",
    "    \n",
    "    # Remove bad data first occurances of turnstiles and negative entry numbers, NaNs,\n",
    "    # where entires per minute > 30 (because let's be honest, more than 1 person\n",
    "    # entering every 2 seconds is outrageous)\n",
    "    before = dfStation.shape[0]\n",
    "    print('Records before cleaning: {}'.format(before))\n",
    "    dfStation = dfStation[(dfStation['firstSCP'] == False) & \n",
    "                          (dfStation['enterDiff']>=0) & \n",
    "                          (dfStation['entriesPerMin']<=30) &\n",
    "                          (dfStation['intMin'] <= 300)].dropna(subset=['enterDiff'])\n",
    "    after = dfStation.shape[0]\n",
    "    print('Records after cleaning:  {}'.format(after))\n",
    "    print('Retained {}% of records'.format(round(after/before*100, 2)))\n",
    "\n",
    "#     plt.hist(dfStation['entriesPerMin'], range=[0, 30], bins=60, label='Entries Per Minute')\n",
    "#     plt.yscale('log', nonposy='clip')\n",
    "#     plt.xlabel('Entries Per Minute During reportying time period')\n",
    "#     plt.ylabel('Samples in Data Set')\n",
    "#     plt.legend()\n",
    "#     plt.show()\n",
    "    \n",
    "    # Remove fields used only to clean the data\n",
    "    dfStation.drop(columns=['turnstile', 'datetime', 'interval', 'intMin', 'entriesPerMin', 'firstSCP'],\n",
    "                  inplace=True)\n",
    "    \n",
    "    # Calculate daily entries per station\n",
    "    dfStationDay = dfStation.groupby(['station', 'date']).sum().reset_index()\n",
    "    dfStationDay.rename(columns={'enterDiff': 'totalEntries'}, inplace=True)\n",
    "    #display(HTML(dfStationDay.head(10).to_html()))\n",
    "    print('Rows: {} (Grouped by station and day)'.format(dfStationDay.shape[0]))\n",
    "    \n",
    "    \n",
    "    # Add data grouped by station and day to new df\n",
    "    try:\n",
    "        dfCleaned = dfCleaned.append(dfStationDay)\n",
    "    except: \n",
    "        dfCleaned = dfStationDay\n",
    "        \n",
    "    print('Duration: {} sec.'.format(round(perf_counter() - t0, 2)))\n",
    "    \n",
    "    if n%5 == 0:\n",
    "        intTime = round(perf_counter() - tt0, 2)\n",
    "        print('\\nINTERMEDIATE Duration: {} sec.'.format(intTime))\n",
    "        remainingTime = round(intTime / n * (nTotal - n), 2)\n",
    "        print('Estimated time remaining: {} sec.'.format(remainingTime))\n",
    "    \n",
    "    # This if statment is used in testing the code, to process a smaller\n",
    "    # amount of data, allowing for faster iteration of code updates\n",
    "    #if n>=2: break\n",
    "\n",
    "dfCleaned.sort_values(by=['date', 'station'], inplace=True)\n",
    "#display(HTML(dfCleaned.head(10).to_html()))\n",
    "\n",
    "print('TOTAL Duration: {} sec.'.format(round(perf_counter() - tt0, 2)))\n",
    "print(dfCleaned.shape)\n",
    "cleanedDataCSV = '../intermediate data/dfCleaned.csv'\n",
    "dfCleaned.to_csv(cleanedDataCSV, index=False)\n",
    "del dfCleaned"
   ]
  },
  {
   "cell_type": "markdown",
   "metadata": {},
   "source": [
    "## Group entry data by day and plot it to see if it makes sense"
   ]
  },
  {
   "cell_type": "code",
   "execution_count": null,
   "metadata": {},
   "outputs": [],
   "source": [
    "cleanedDataCSV = '../intermediate data/dfCleaned_bak.csv'\n",
    "\n",
    "dfClean = pd.read_csv(cleanedDataCSV, parse_dates=['date'])\n",
    "dfClean.drop(columns=['station'], inplace=True)\n",
    "\n",
    "dfByDay = dfClean.groupby(['date']).sum().reset_index()\n",
    "dfByDay.sort_values(by=['date'], inplace=True)\n",
    "\n",
    "titleText = 'Total entries into NYC subway system by day'\n",
    "fig, ax = plt.subplots(figsize=(20, 2))\n",
    "dfByDay.plot.line(ax=ax, x='date', y='totalEntries', figsize=(20,2))\n",
    "ax.text(0.0035,1.15,titleText, \n",
    "        ha='left', va='top',\n",
    "        color='black',\n",
    "        bbox=dict(facecolor='lightgray', alpha=1),\n",
    "        transform = ax.transAxes)\n",
    "plt.show()"
   ]
  },
  {
   "cell_type": "markdown",
   "metadata": {},
   "source": [
    "## Add columns to identify days of the week - For training the model\n",
    "* 1 = True, i.e. row is that day\n",
    "* 0 = False, i.e. row is not that day"
   ]
  },
  {
   "cell_type": "code",
   "execution_count": null,
   "metadata": {},
   "outputs": [],
   "source": [
    "dfByDay['weekday'] = dfByDay['date'].dt.day_name()\n",
    "days = ['Monday', 'Tuesday', 'Wednesday', 'Thursday', 'Friday', 'Saturday', 'Sunday']\n",
    "\n",
    "for d in days:\n",
    "    dfByDay[d] = 0\n",
    "    dfByDay.loc[dfByDay['weekday'] == d, d] = 1\n",
    "\n",
    "dfByDay.drop(columns=['weekday'], inplace=True)\n",
    "display(HTML(dfByDay.head(10).to_html()))"
   ]
  },
  {
   "cell_type": "markdown",
   "metadata": {},
   "source": [
    "## Split data into training and testing sets\n",
    "* Training set = January through November\n",
    "* Testing set = December"
   ]
  },
  {
   "cell_type": "code",
   "execution_count": null,
   "metadata": {},
   "outputs": [],
   "source": [
    "dfTrain = dfByDay[dfByDay['date']< '2016-12-1'].copy()\n",
    "dfTest = dfByDay[dfByDay['date']>= '2016-12-1'].copy()\n",
    "\n",
    "dfTrain.set_index('date', inplace=True)\n",
    "dfTest.set_index('date', inplace=True)"
   ]
  },
  {
   "cell_type": "markdown",
   "metadata": {},
   "source": [
    "## Fit a linear regression model to training set"
   ]
  },
  {
   "cell_type": "code",
   "execution_count": null,
   "metadata": {},
   "outputs": [],
   "source": [
    "from sklearn.linear_model import LinearRegression\n",
    "\n",
    "trainDays = dfTrain.drop(columns=['totalEntries'])\n",
    "trainEntries = dfTrain['totalEntries']\n",
    "\n",
    "model = LinearRegression(fit_intercept = False)\n",
    "model.fit(trainDays, trainEntries)\n",
    "dfTrain['predicted'] = model.predict(trainDays)\n",
    "\n",
    "display(HTML(dfTrain.head(5).to_html()))"
   ]
  },
  {
   "cell_type": "markdown",
   "metadata": {},
   "source": [
    "## Plot the regression model on top of entry data to visually examine fit"
   ]
  },
  {
   "cell_type": "code",
   "execution_count": null,
   "metadata": {},
   "outputs": [],
   "source": [
    "fig, ax = plt.subplots(1,1, figsize=(12,4))\n",
    "ax.plot(dfTrain['totalEntries'], color='gray', alpha=1)\n",
    "ax.plot(dfTrain['predicted'], color='red', alpha=0.5)\n",
    "ax.set_ylabel('Ridership')\n",
    "ax.set_xticks\n",
    "plt.show()"
   ]
  }
 ],
 "metadata": {
  "kernelspec": {
   "display_name": "Python 3",
   "language": "python",
   "name": "python3"
  },
  "language_info": {
   "codemirror_mode": {
    "name": "ipython",
    "version": 3
   },
   "file_extension": ".py",
   "mimetype": "text/x-python",
   "name": "python",
   "nbconvert_exporter": "python",
   "pygments_lexer": "ipython3",
   "version": "3.7.3"
  }
 },
 "nbformat": 4,
 "nbformat_minor": 2
}
